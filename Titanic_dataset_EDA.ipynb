{
 "cells": [
  {
   "cell_type": "markdown",
   "id": "2e5440e1",
   "metadata": {},
   "source": [
    "## 1. Importing libraries"
   ]
  },
  {
   "cell_type": "code",
   "execution_count": 1,
   "id": "9308618a",
   "metadata": {},
   "outputs": [],
   "source": [
    "# Importing warning\n",
    "import warnings\n",
    "warnings.filterwarnings('ignore')"
   ]
  },
  {
   "cell_type": "code",
   "execution_count": 2,
   "id": "3ec60eb2",
   "metadata": {},
   "outputs": [],
   "source": [
    "# Importing necessary libraries\n",
    "\n",
    "import numpy as np\n",
    "import pandas as pd\n",
    "import matplotlib.pyplot as plt\n",
    "import seaborn as sns"
   ]
  },
  {
   "cell_type": "markdown",
   "id": "84f9ead9",
   "metadata": {},
   "source": [
    "## 2. Importing Datasets"
   ]
  },
  {
   "cell_type": "code",
   "execution_count": 3,
   "id": "61bc55a7",
   "metadata": {
    "scrolled": false
   },
   "outputs": [
    {
     "data": {
      "text/html": [
       "<div>\n",
       "<style scoped>\n",
       "    .dataframe tbody tr th:only-of-type {\n",
       "        vertical-align: middle;\n",
       "    }\n",
       "\n",
       "    .dataframe tbody tr th {\n",
       "        vertical-align: top;\n",
       "    }\n",
       "\n",
       "    .dataframe thead th {\n",
       "        text-align: right;\n",
       "    }\n",
       "</style>\n",
       "<table border=\"1\" class=\"dataframe\">\n",
       "  <thead>\n",
       "    <tr style=\"text-align: right;\">\n",
       "      <th></th>\n",
       "      <th>PassengerId</th>\n",
       "      <th>Survived</th>\n",
       "      <th>Pclass</th>\n",
       "      <th>Name</th>\n",
       "      <th>Sex</th>\n",
       "      <th>Age</th>\n",
       "      <th>SibSp</th>\n",
       "      <th>Parch</th>\n",
       "      <th>Ticket</th>\n",
       "      <th>Fare</th>\n",
       "      <th>Cabin</th>\n",
       "      <th>Embarked</th>\n",
       "    </tr>\n",
       "  </thead>\n",
       "  <tbody>\n",
       "    <tr>\n",
       "      <th>0</th>\n",
       "      <td>1</td>\n",
       "      <td>0</td>\n",
       "      <td>3</td>\n",
       "      <td>Braund, Mr. Owen Harris</td>\n",
       "      <td>male</td>\n",
       "      <td>22.0</td>\n",
       "      <td>1</td>\n",
       "      <td>0</td>\n",
       "      <td>A/5 21171</td>\n",
       "      <td>7.2500</td>\n",
       "      <td>NaN</td>\n",
       "      <td>S</td>\n",
       "    </tr>\n",
       "    <tr>\n",
       "      <th>1</th>\n",
       "      <td>2</td>\n",
       "      <td>1</td>\n",
       "      <td>1</td>\n",
       "      <td>Cumings, Mrs. John Bradley (Florence Briggs Th...</td>\n",
       "      <td>female</td>\n",
       "      <td>38.0</td>\n",
       "      <td>1</td>\n",
       "      <td>0</td>\n",
       "      <td>PC 17599</td>\n",
       "      <td>71.2833</td>\n",
       "      <td>C85</td>\n",
       "      <td>C</td>\n",
       "    </tr>\n",
       "    <tr>\n",
       "      <th>2</th>\n",
       "      <td>3</td>\n",
       "      <td>1</td>\n",
       "      <td>3</td>\n",
       "      <td>Heikkinen, Miss. Laina</td>\n",
       "      <td>female</td>\n",
       "      <td>26.0</td>\n",
       "      <td>0</td>\n",
       "      <td>0</td>\n",
       "      <td>STON/O2. 3101282</td>\n",
       "      <td>7.9250</td>\n",
       "      <td>NaN</td>\n",
       "      <td>S</td>\n",
       "    </tr>\n",
       "    <tr>\n",
       "      <th>3</th>\n",
       "      <td>4</td>\n",
       "      <td>1</td>\n",
       "      <td>1</td>\n",
       "      <td>Futrelle, Mrs. Jacques Heath (Lily May Peel)</td>\n",
       "      <td>female</td>\n",
       "      <td>35.0</td>\n",
       "      <td>1</td>\n",
       "      <td>0</td>\n",
       "      <td>113803</td>\n",
       "      <td>53.1000</td>\n",
       "      <td>C123</td>\n",
       "      <td>S</td>\n",
       "    </tr>\n",
       "    <tr>\n",
       "      <th>4</th>\n",
       "      <td>5</td>\n",
       "      <td>0</td>\n",
       "      <td>3</td>\n",
       "      <td>Allen, Mr. William Henry</td>\n",
       "      <td>male</td>\n",
       "      <td>35.0</td>\n",
       "      <td>0</td>\n",
       "      <td>0</td>\n",
       "      <td>373450</td>\n",
       "      <td>8.0500</td>\n",
       "      <td>NaN</td>\n",
       "      <td>S</td>\n",
       "    </tr>\n",
       "  </tbody>\n",
       "</table>\n",
       "</div>"
      ],
      "text/plain": [
       "   PassengerId  Survived  Pclass  \\\n",
       "0            1         0       3   \n",
       "1            2         1       1   \n",
       "2            3         1       3   \n",
       "3            4         1       1   \n",
       "4            5         0       3   \n",
       "\n",
       "                                                Name     Sex   Age  SibSp  \\\n",
       "0                            Braund, Mr. Owen Harris    male  22.0      1   \n",
       "1  Cumings, Mrs. John Bradley (Florence Briggs Th...  female  38.0      1   \n",
       "2                             Heikkinen, Miss. Laina  female  26.0      0   \n",
       "3       Futrelle, Mrs. Jacques Heath (Lily May Peel)  female  35.0      1   \n",
       "4                           Allen, Mr. William Henry    male  35.0      0   \n",
       "\n",
       "   Parch            Ticket     Fare Cabin Embarked  \n",
       "0      0         A/5 21171   7.2500   NaN        S  \n",
       "1      0          PC 17599  71.2833   C85        C  \n",
       "2      0  STON/O2. 3101282   7.9250   NaN        S  \n",
       "3      0            113803  53.1000  C123        S  \n",
       "4      0            373450   8.0500   NaN        S  "
      ]
     },
     "execution_count": 3,
     "metadata": {},
     "output_type": "execute_result"
    }
   ],
   "source": [
    "# Importing Dataset1\n",
    "df1 = pd.read_csv(r'D:\\Internships\\Prodigy\\Task2_EDA\\Data\\Data1.csv')\n",
    "\n",
    "# Verify\n",
    "df1.head()"
   ]
  },
  {
   "cell_type": "code",
   "execution_count": 4,
   "id": "5f4ba132",
   "metadata": {},
   "outputs": [
    {
     "data": {
      "text/html": [
       "<div>\n",
       "<style scoped>\n",
       "    .dataframe tbody tr th:only-of-type {\n",
       "        vertical-align: middle;\n",
       "    }\n",
       "\n",
       "    .dataframe tbody tr th {\n",
       "        vertical-align: top;\n",
       "    }\n",
       "\n",
       "    .dataframe thead th {\n",
       "        text-align: right;\n",
       "    }\n",
       "</style>\n",
       "<table border=\"1\" class=\"dataframe\">\n",
       "  <thead>\n",
       "    <tr style=\"text-align: right;\">\n",
       "      <th></th>\n",
       "      <th>PassengerId</th>\n",
       "      <th>Survived</th>\n",
       "      <th>Pclass</th>\n",
       "      <th>Name</th>\n",
       "      <th>Sex</th>\n",
       "      <th>Age</th>\n",
       "      <th>SibSp</th>\n",
       "      <th>Parch</th>\n",
       "      <th>Ticket</th>\n",
       "      <th>Fare</th>\n",
       "      <th>Cabin</th>\n",
       "      <th>Embarked</th>\n",
       "    </tr>\n",
       "  </thead>\n",
       "  <tbody>\n",
       "    <tr>\n",
       "      <th>0</th>\n",
       "      <td>1000</td>\n",
       "      <td>0</td>\n",
       "      <td>3</td>\n",
       "      <td>Willer, Mr. Aaron (Abi Weller\")\"</td>\n",
       "      <td>male</td>\n",
       "      <td>NaN</td>\n",
       "      <td>0</td>\n",
       "      <td>0</td>\n",
       "      <td>3410</td>\n",
       "      <td>8.7125</td>\n",
       "      <td>NaN</td>\n",
       "      <td>S</td>\n",
       "    </tr>\n",
       "    <tr>\n",
       "      <th>1</th>\n",
       "      <td>1001</td>\n",
       "      <td>0</td>\n",
       "      <td>2</td>\n",
       "      <td>Swane, Mr. George</td>\n",
       "      <td>male</td>\n",
       "      <td>18.5</td>\n",
       "      <td>0</td>\n",
       "      <td>0</td>\n",
       "      <td>248734</td>\n",
       "      <td>13.0000</td>\n",
       "      <td>F</td>\n",
       "      <td>S</td>\n",
       "    </tr>\n",
       "    <tr>\n",
       "      <th>2</th>\n",
       "      <td>1002</td>\n",
       "      <td>0</td>\n",
       "      <td>2</td>\n",
       "      <td>Stanton, Mr. Samuel Ward</td>\n",
       "      <td>male</td>\n",
       "      <td>41.0</td>\n",
       "      <td>0</td>\n",
       "      <td>0</td>\n",
       "      <td>237734</td>\n",
       "      <td>15.0458</td>\n",
       "      <td>NaN</td>\n",
       "      <td>C</td>\n",
       "    </tr>\n",
       "    <tr>\n",
       "      <th>3</th>\n",
       "      <td>1003</td>\n",
       "      <td>1</td>\n",
       "      <td>3</td>\n",
       "      <td>Shine, Miss. Ellen Natalia</td>\n",
       "      <td>female</td>\n",
       "      <td>NaN</td>\n",
       "      <td>0</td>\n",
       "      <td>0</td>\n",
       "      <td>330968</td>\n",
       "      <td>7.7792</td>\n",
       "      <td>NaN</td>\n",
       "      <td>Q</td>\n",
       "    </tr>\n",
       "    <tr>\n",
       "      <th>4</th>\n",
       "      <td>1004</td>\n",
       "      <td>1</td>\n",
       "      <td>1</td>\n",
       "      <td>Evans, Miss. Edith Corse</td>\n",
       "      <td>female</td>\n",
       "      <td>36.0</td>\n",
       "      <td>0</td>\n",
       "      <td>0</td>\n",
       "      <td>PC 17531</td>\n",
       "      <td>31.6792</td>\n",
       "      <td>A29</td>\n",
       "      <td>C</td>\n",
       "    </tr>\n",
       "  </tbody>\n",
       "</table>\n",
       "</div>"
      ],
      "text/plain": [
       "   PassengerId  Survived  Pclass                              Name     Sex  \\\n",
       "0         1000         0       3  Willer, Mr. Aaron (Abi Weller\")\"    male   \n",
       "1         1001         0       2                 Swane, Mr. George    male   \n",
       "2         1002         0       2          Stanton, Mr. Samuel Ward    male   \n",
       "3         1003         1       3        Shine, Miss. Ellen Natalia  female   \n",
       "4         1004         1       1          Evans, Miss. Edith Corse  female   \n",
       "\n",
       "    Age  SibSp  Parch    Ticket     Fare Cabin Embarked  \n",
       "0   NaN      0      0      3410   8.7125   NaN        S  \n",
       "1  18.5      0      0    248734  13.0000     F        S  \n",
       "2  41.0      0      0    237734  15.0458   NaN        C  \n",
       "3   NaN      0      0    330968   7.7792   NaN        Q  \n",
       "4  36.0      0      0  PC 17531  31.6792   A29        C  "
      ]
     },
     "execution_count": 4,
     "metadata": {},
     "output_type": "execute_result"
    }
   ],
   "source": [
    "# Importing Dataset2\n",
    "df2 = pd.read_excel(r'D:\\Internships\\Prodigy\\Task2_EDA\\Data\\Data2.xlsx')\n",
    "\n",
    "# Verify\n",
    "df2.head()"
   ]
  },
  {
   "cell_type": "code",
   "execution_count": 5,
   "id": "c9aafdc7",
   "metadata": {
    "scrolled": false
   },
   "outputs": [
    {
     "name": "stdout",
     "output_type": "stream",
     "text": [
      "Sum of rows in (df1 + df2) : 1309\n",
      "Shape of titanic : (1309, 12)\n"
     ]
    },
    {
     "data": {
      "text/html": [
       "<div>\n",
       "<style scoped>\n",
       "    .dataframe tbody tr th:only-of-type {\n",
       "        vertical-align: middle;\n",
       "    }\n",
       "\n",
       "    .dataframe tbody tr th {\n",
       "        vertical-align: top;\n",
       "    }\n",
       "\n",
       "    .dataframe thead th {\n",
       "        text-align: right;\n",
       "    }\n",
       "</style>\n",
       "<table border=\"1\" class=\"dataframe\">\n",
       "  <thead>\n",
       "    <tr style=\"text-align: right;\">\n",
       "      <th></th>\n",
       "      <th>PassengerId</th>\n",
       "      <th>Survived</th>\n",
       "      <th>Pclass</th>\n",
       "      <th>Name</th>\n",
       "      <th>Sex</th>\n",
       "      <th>Age</th>\n",
       "      <th>SibSp</th>\n",
       "      <th>Parch</th>\n",
       "      <th>Ticket</th>\n",
       "      <th>Fare</th>\n",
       "      <th>Cabin</th>\n",
       "      <th>Embarked</th>\n",
       "    </tr>\n",
       "  </thead>\n",
       "  <tbody>\n",
       "    <tr>\n",
       "      <th>0</th>\n",
       "      <td>1</td>\n",
       "      <td>0</td>\n",
       "      <td>3</td>\n",
       "      <td>Braund, Mr. Owen Harris</td>\n",
       "      <td>male</td>\n",
       "      <td>22.0</td>\n",
       "      <td>1</td>\n",
       "      <td>0</td>\n",
       "      <td>A/5 21171</td>\n",
       "      <td>7.2500</td>\n",
       "      <td>NaN</td>\n",
       "      <td>S</td>\n",
       "    </tr>\n",
       "    <tr>\n",
       "      <th>1</th>\n",
       "      <td>2</td>\n",
       "      <td>1</td>\n",
       "      <td>1</td>\n",
       "      <td>Cumings, Mrs. John Bradley (Florence Briggs Th...</td>\n",
       "      <td>female</td>\n",
       "      <td>38.0</td>\n",
       "      <td>1</td>\n",
       "      <td>0</td>\n",
       "      <td>PC 17599</td>\n",
       "      <td>71.2833</td>\n",
       "      <td>C85</td>\n",
       "      <td>C</td>\n",
       "    </tr>\n",
       "    <tr>\n",
       "      <th>2</th>\n",
       "      <td>3</td>\n",
       "      <td>1</td>\n",
       "      <td>3</td>\n",
       "      <td>Heikkinen, Miss. Laina</td>\n",
       "      <td>female</td>\n",
       "      <td>26.0</td>\n",
       "      <td>0</td>\n",
       "      <td>0</td>\n",
       "      <td>STON/O2. 3101282</td>\n",
       "      <td>7.9250</td>\n",
       "      <td>NaN</td>\n",
       "      <td>S</td>\n",
       "    </tr>\n",
       "    <tr>\n",
       "      <th>3</th>\n",
       "      <td>4</td>\n",
       "      <td>1</td>\n",
       "      <td>1</td>\n",
       "      <td>Futrelle, Mrs. Jacques Heath (Lily May Peel)</td>\n",
       "      <td>female</td>\n",
       "      <td>35.0</td>\n",
       "      <td>1</td>\n",
       "      <td>0</td>\n",
       "      <td>113803</td>\n",
       "      <td>53.1000</td>\n",
       "      <td>C123</td>\n",
       "      <td>S</td>\n",
       "    </tr>\n",
       "    <tr>\n",
       "      <th>4</th>\n",
       "      <td>5</td>\n",
       "      <td>0</td>\n",
       "      <td>3</td>\n",
       "      <td>Allen, Mr. William Henry</td>\n",
       "      <td>male</td>\n",
       "      <td>35.0</td>\n",
       "      <td>0</td>\n",
       "      <td>0</td>\n",
       "      <td>373450</td>\n",
       "      <td>8.0500</td>\n",
       "      <td>NaN</td>\n",
       "      <td>S</td>\n",
       "    </tr>\n",
       "  </tbody>\n",
       "</table>\n",
       "</div>"
      ],
      "text/plain": [
       "   PassengerId  Survived  Pclass  \\\n",
       "0            1         0       3   \n",
       "1            2         1       1   \n",
       "2            3         1       3   \n",
       "3            4         1       1   \n",
       "4            5         0       3   \n",
       "\n",
       "                                                Name     Sex   Age  SibSp  \\\n",
       "0                            Braund, Mr. Owen Harris    male  22.0      1   \n",
       "1  Cumings, Mrs. John Bradley (Florence Briggs Th...  female  38.0      1   \n",
       "2                             Heikkinen, Miss. Laina  female  26.0      0   \n",
       "3       Futrelle, Mrs. Jacques Heath (Lily May Peel)  female  35.0      1   \n",
       "4                           Allen, Mr. William Henry    male  35.0      0   \n",
       "\n",
       "   Parch            Ticket     Fare Cabin Embarked  \n",
       "0      0         A/5 21171   7.2500   NaN        S  \n",
       "1      0          PC 17599  71.2833   C85        C  \n",
       "2      0  STON/O2. 3101282   7.9250   NaN        S  \n",
       "3      0            113803  53.1000  C123        S  \n",
       "4      0            373450   8.0500   NaN        S  "
      ]
     },
     "execution_count": 5,
     "metadata": {},
     "output_type": "execute_result"
    }
   ],
   "source": [
    "# The data set is split into two parts Train and test data, hence merging the data\n",
    "titanic = pd.concat([df1, df2], axis = 0, ignore_index=True)\n",
    "\n",
    "print('Sum of rows in (df1 + df2) :',df1.shape[0] + df2.shape[0])\n",
    "\n",
    "print('Shape of titanic :', titanic.shape)\n",
    "\n",
    "# Verify\n",
    "titanic.head()"
   ]
  },
  {
   "cell_type": "markdown",
   "id": "b79add2a",
   "metadata": {},
   "source": [
    "## 3. Data Understanding"
   ]
  },
  {
   "cell_type": "markdown",
   "id": "2433d22e",
   "metadata": {},
   "source": [
    "#### Objective\n",
    "\n",
    "The dataset contains categorical columns that have been converted to numerical values using binary coding or label encoding. This transformation is necessary because the main goal of the dataset from Kaggle[https://www.kaggle.com/c/titanic/data] is to build a machine learning model to predict survivors based on various predictor variables. However, our current objective is to perform exploratory data analysis (EDA) on the dataset."
   ]
  },
  {
   "cell_type": "markdown",
   "id": "72b27566",
   "metadata": {},
   "source": [
    "\n",
    "#### Column Definitions\n",
    "\n",
    "1. **Passenger ID** - Unique identifier for each passenger, starting from **1**.\n",
    "2. **Survived** - Indicates whether the passenger survived (1: Survived | 0: Not Survived).\n",
    "3. **Pclass** - Ticket class of the passenger (1: First class | 2: Second class | 3: Third class).\n",
    "4. **Name** - Full name of the passenger, formatted as \"Lastname, Title. Firstname\". For married women, it is formatted as \"Lastname of spouse, Title-Mrs. Firstname of spouse (Firstname Middlename Lastname)\".\n",
    "5. **Sex** - Gender of the passenger (male or female).\n",
    "6. **Age** - Age of the passenger, ranging from 5 months (0.42) to 80 years.\n",
    "7. **SibSp** - Number of siblings/spouses aboard the Titanic.\n",
    "8. **Parch** - Number of parents/children aboard the Titanic.\n",
    "9. **Ticket** - Ticket number, which may include both a prefix and a number.\n",
    "10. **Fare** - Fare paid by the passenger, ranging from 0.0 to 512.33.\n",
    "11. **Embarked** - Port where the passenger boarded the Titanic (C: Cherbourg | Q: Queenstown | S: Southampton)."
   ]
  },
  {
   "cell_type": "markdown",
   "id": "855697ce",
   "metadata": {},
   "source": [
    "## 4. Handling missing values"
   ]
  },
  {
   "cell_type": "code",
   "execution_count": 6,
   "id": "642293b3",
   "metadata": {
    "scrolled": true
   },
   "outputs": [
    {
     "name": "stdout",
     "output_type": "stream",
     "text": [
      "<class 'pandas.core.frame.DataFrame'>\n",
      "RangeIndex: 1309 entries, 0 to 1308\n",
      "Data columns (total 12 columns):\n",
      " #   Column       Non-Null Count  Dtype  \n",
      "---  ------       --------------  -----  \n",
      " 0   PassengerId  1309 non-null   int64  \n",
      " 1   Survived     1309 non-null   int64  \n",
      " 2   Pclass       1309 non-null   int64  \n",
      " 3   Name         1309 non-null   object \n",
      " 4   Sex          1309 non-null   object \n",
      " 5   Age          1046 non-null   float64\n",
      " 6   SibSp        1309 non-null   int64  \n",
      " 7   Parch        1309 non-null   int64  \n",
      " 8   Ticket       1309 non-null   object \n",
      " 9   Fare         1308 non-null   float64\n",
      " 10  Cabin        295 non-null    object \n",
      " 11  Embarked     1307 non-null   object \n",
      "dtypes: float64(2), int64(5), object(5)\n",
      "memory usage: 122.8+ KB\n"
     ]
    }
   ],
   "source": [
    "# Viewing the dataset info\n",
    "titanic.info()"
   ]
  },
  {
   "cell_type": "code",
   "execution_count": 7,
   "id": "de284d7a",
   "metadata": {
    "scrolled": true
   },
   "outputs": [
    {
     "data": {
      "text/plain": [
       "PassengerId       0\n",
       "Survived          0\n",
       "Pclass            0\n",
       "Name              0\n",
       "Sex               0\n",
       "Age             263\n",
       "SibSp             0\n",
       "Parch             0\n",
       "Ticket            0\n",
       "Fare              1\n",
       "Cabin          1014\n",
       "Embarked          2\n",
       "dtype: int64"
      ]
     },
     "execution_count": 7,
     "metadata": {},
     "output_type": "execute_result"
    }
   ],
   "source": [
    "# Viewing the null values\n",
    "titanic.isnull().sum()"
   ]
  },
  {
   "cell_type": "code",
   "execution_count": 8,
   "id": "6ef165a3",
   "metadata": {},
   "outputs": [
    {
     "name": "stdout",
     "output_type": "stream",
     "text": [
      "% of missing values \n",
      "\n",
      "Cabin       77.46\n",
      "Age         20.09\n",
      "Embarked     0.15\n",
      "Fare         0.08\n",
      "dtype: float64\n"
     ]
    }
   ],
   "source": [
    "# Missing values percent\n",
    "print('% of missing values \\n')\n",
    "print(round(((titanic.isnull().sum()*100)/titanic.shape[0])[titanic.isnull().sum()>0] , 2).sort_values(ascending = False))\n"
   ]
  },
  {
   "cell_type": "markdown",
   "id": "f2ebc6a3",
   "metadata": {},
   "source": [
    "The \"Cabin\" column has 77.5% missing values, which is a substantial proportion and should be dropped to avoid potential misinterpretations."
   ]
  },
  {
   "cell_type": "markdown",
   "id": "04f4a81d",
   "metadata": {},
   "source": [
    "#### 4.1 Handling missing values - Dropping"
   ]
  },
  {
   "cell_type": "code",
   "execution_count": 9,
   "id": "2de69ca8",
   "metadata": {},
   "outputs": [
    {
     "data": {
      "text/plain": [
       "PassengerId      0\n",
       "Survived         0\n",
       "Pclass           0\n",
       "Name             0\n",
       "Sex              0\n",
       "Age            263\n",
       "SibSp            0\n",
       "Parch            0\n",
       "Ticket           0\n",
       "Fare             1\n",
       "Embarked         2\n",
       "dtype: int64"
      ]
     },
     "execution_count": 9,
     "metadata": {},
     "output_type": "execute_result"
    }
   ],
   "source": [
    "# Dropping 'Cabin' column\n",
    "titanic.drop('Cabin' , inplace = True, axis = 1)\n",
    "\n",
    "#verify\n",
    "titanic.isnull().sum()"
   ]
  },
  {
   "cell_type": "markdown",
   "id": "5470e4df",
   "metadata": {},
   "source": [
    "#### 4.2 Handling missing values - Imputing"
   ]
  },
  {
   "cell_type": "code",
   "execution_count": 10,
   "id": "96ae769a",
   "metadata": {},
   "outputs": [
    {
     "name": "stdout",
     "output_type": "stream",
     "text": [
      "% of missing values \n",
      "\n",
      "Age         20.09\n",
      "Embarked     0.15\n",
      "Fare         0.08\n",
      "dtype: float64\n"
     ]
    }
   ],
   "source": [
    "# Missing values percent\n",
    "print('% of missing values \\n')\n",
    "print(round(((titanic.isnull().sum()*100)/titanic.shape[0])[titanic.isnull().sum()>0] , 2).sort_values(ascending = False))\n"
   ]
  },
  {
   "cell_type": "code",
   "execution_count": 11,
   "id": "c99f404a",
   "metadata": {
    "scrolled": true
   },
   "outputs": [
    {
     "data": {
      "text/html": [
       "<div>\n",
       "<style scoped>\n",
       "    .dataframe tbody tr th:only-of-type {\n",
       "        vertical-align: middle;\n",
       "    }\n",
       "\n",
       "    .dataframe tbody tr th {\n",
       "        vertical-align: top;\n",
       "    }\n",
       "\n",
       "    .dataframe thead th {\n",
       "        text-align: right;\n",
       "    }\n",
       "</style>\n",
       "<table border=\"1\" class=\"dataframe\">\n",
       "  <thead>\n",
       "    <tr style=\"text-align: right;\">\n",
       "      <th></th>\n",
       "      <th>PassengerId</th>\n",
       "      <th>Survived</th>\n",
       "      <th>Pclass</th>\n",
       "      <th>Name</th>\n",
       "      <th>Sex</th>\n",
       "      <th>Age</th>\n",
       "      <th>SibSp</th>\n",
       "      <th>Parch</th>\n",
       "      <th>Ticket</th>\n",
       "      <th>Fare</th>\n",
       "      <th>Embarked</th>\n",
       "    </tr>\n",
       "  </thead>\n",
       "  <tbody>\n",
       "    <tr>\n",
       "      <th>61</th>\n",
       "      <td>62</td>\n",
       "      <td>1</td>\n",
       "      <td>1</td>\n",
       "      <td>Icard, Miss. Amelie</td>\n",
       "      <td>female</td>\n",
       "      <td>38.0</td>\n",
       "      <td>0</td>\n",
       "      <td>0</td>\n",
       "      <td>113572</td>\n",
       "      <td>80.0</td>\n",
       "      <td>NaN</td>\n",
       "    </tr>\n",
       "    <tr>\n",
       "      <th>829</th>\n",
       "      <td>830</td>\n",
       "      <td>1</td>\n",
       "      <td>1</td>\n",
       "      <td>Stone, Mrs. George Nelson (Martha Evelyn)</td>\n",
       "      <td>female</td>\n",
       "      <td>62.0</td>\n",
       "      <td>0</td>\n",
       "      <td>0</td>\n",
       "      <td>113572</td>\n",
       "      <td>80.0</td>\n",
       "      <td>NaN</td>\n",
       "    </tr>\n",
       "  </tbody>\n",
       "</table>\n",
       "</div>"
      ],
      "text/plain": [
       "     PassengerId  Survived  Pclass                                       Name  \\\n",
       "61            62         1       1                        Icard, Miss. Amelie   \n",
       "829          830         1       1  Stone, Mrs. George Nelson (Martha Evelyn)   \n",
       "\n",
       "        Sex   Age  SibSp  Parch  Ticket  Fare Embarked  \n",
       "61   female  38.0      0      0  113572  80.0      NaN  \n",
       "829  female  62.0      0      0  113572  80.0      NaN  "
      ]
     },
     "execution_count": 11,
     "metadata": {},
     "output_type": "execute_result"
    }
   ],
   "source": [
    "# Viewing the rows with missing values - 1. Embarked\n",
    "titanic[titanic.Embarked.isnull()]"
   ]
  },
  {
   "cell_type": "code",
   "execution_count": 12,
   "id": "bb56d723",
   "metadata": {},
   "outputs": [
    {
     "data": {
      "text/plain": [
       "Embarked\n",
       "S    914\n",
       "C    270\n",
       "Q    123\n",
       "Name: count, dtype: int64"
      ]
     },
     "execution_count": 12,
     "metadata": {},
     "output_type": "execute_result"
    }
   ],
   "source": [
    "# Finding the most common value - 1.Embarked\n",
    "titanic.Embarked.value_counts()"
   ]
  },
  {
   "cell_type": "markdown",
   "id": "0022b1c6",
   "metadata": {},
   "source": [
    "Since neither passenger has any siblings or parents onboard, we can't figure out where they embarked from. So, let's just fill in the most common embarked value = 'S'."
   ]
  },
  {
   "cell_type": "code",
   "execution_count": 13,
   "id": "d6e8913a",
   "metadata": {},
   "outputs": [
    {
     "name": "stdout",
     "output_type": "stream",
     "text": [
      "Columns with missing values \n",
      "\n",
      "Age     263\n",
      "Fare      1\n",
      "dtype: int64\n"
     ]
    }
   ],
   "source": [
    "# Imputing with most common value\n",
    "titanic.Embarked[titanic.Embarked.isnull()] = 'S'\n",
    "\n",
    "# verify\n",
    "print('Columns with missing values \\n')\n",
    "print(titanic.isnull().sum()[titanic.isnull().sum()>0])"
   ]
  },
  {
   "cell_type": "code",
   "execution_count": 14,
   "id": "d761464f",
   "metadata": {},
   "outputs": [
    {
     "data": {
      "text/html": [
       "<div>\n",
       "<style scoped>\n",
       "    .dataframe tbody tr th:only-of-type {\n",
       "        vertical-align: middle;\n",
       "    }\n",
       "\n",
       "    .dataframe tbody tr th {\n",
       "        vertical-align: top;\n",
       "    }\n",
       "\n",
       "    .dataframe thead th {\n",
       "        text-align: right;\n",
       "    }\n",
       "</style>\n",
       "<table border=\"1\" class=\"dataframe\">\n",
       "  <thead>\n",
       "    <tr style=\"text-align: right;\">\n",
       "      <th></th>\n",
       "      <th>PassengerId</th>\n",
       "      <th>Survived</th>\n",
       "      <th>Pclass</th>\n",
       "      <th>Name</th>\n",
       "      <th>Sex</th>\n",
       "      <th>Age</th>\n",
       "      <th>SibSp</th>\n",
       "      <th>Parch</th>\n",
       "      <th>Ticket</th>\n",
       "      <th>Fare</th>\n",
       "      <th>Embarked</th>\n",
       "    </tr>\n",
       "  </thead>\n",
       "  <tbody>\n",
       "    <tr>\n",
       "      <th>1043</th>\n",
       "      <td>1044</td>\n",
       "      <td>0</td>\n",
       "      <td>3</td>\n",
       "      <td>Storey, Mr. Thomas</td>\n",
       "      <td>male</td>\n",
       "      <td>60.5</td>\n",
       "      <td>0</td>\n",
       "      <td>0</td>\n",
       "      <td>3701</td>\n",
       "      <td>NaN</td>\n",
       "      <td>S</td>\n",
       "    </tr>\n",
       "  </tbody>\n",
       "</table>\n",
       "</div>"
      ],
      "text/plain": [
       "      PassengerId  Survived  Pclass                Name   Sex   Age  SibSp  \\\n",
       "1043         1044         0       3  Storey, Mr. Thomas  male  60.5      0   \n",
       "\n",
       "      Parch Ticket  Fare Embarked  \n",
       "1043      0   3701   NaN        S  "
      ]
     },
     "execution_count": 14,
     "metadata": {},
     "output_type": "execute_result"
    }
   ],
   "source": [
    "# Viewing the rows with missing values - 2. Fare\n",
    "titanic[titanic.Fare.isnull()]"
   ]
  },
  {
   "cell_type": "code",
   "execution_count": 15,
   "id": "29cbc1df",
   "metadata": {},
   "outputs": [
    {
     "data": {
      "text/plain": [
       "14.4542"
      ]
     },
     "execution_count": 15,
     "metadata": {},
     "output_type": "execute_result"
    }
   ],
   "source": [
    "# Actual Median value - Fare\n",
    "titanic.Fare.median()"
   ]
  },
  {
   "cell_type": "code",
   "execution_count": 16,
   "id": "0e8608d6",
   "metadata": {},
   "outputs": [
    {
     "data": {
      "text/plain": [
       "8.05"
      ]
     },
     "execution_count": 16,
     "metadata": {},
     "output_type": "execute_result"
    }
   ],
   "source": [
    "# Median value for 3rd class - Fare\n",
    "titanic.Fare[titanic.Pclass == 3].median()"
   ]
  },
  {
   "cell_type": "markdown",
   "id": "04a236d7",
   "metadata": {},
   "source": [
    "Median value for 3rd class Fare is 75% lower than the Actual Median value of Fare.\n",
    "\n",
    "Since the passenger is traveling in 3rd class, it would make more sense to use the median fare price for imputation rather than the actual median fare value."
   ]
  },
  {
   "cell_type": "code",
   "execution_count": 17,
   "id": "d4c8f758",
   "metadata": {},
   "outputs": [
    {
     "name": "stdout",
     "output_type": "stream",
     "text": [
      "Column with missing values \n",
      "\n",
      "Age    263\n",
      "dtype: int64\n"
     ]
    }
   ],
   "source": [
    "# Imputing with Median value for 3rd class - Fare\n",
    "titanic.Fare[titanic.Fare.isnull()] = 8.05\n",
    "\n",
    "# verify\n",
    "print('Column with missing values \\n')\n",
    "print(titanic.isnull().sum()[titanic.isnull().sum()>0])"
   ]
  },
  {
   "cell_type": "markdown",
   "id": "f4fc51c2",
   "metadata": {},
   "source": [
    "Imputing the missing values in Age is critical because they constitute approximately 20% of the dataset. Misinterpreting these missing values could significantly impact the accuracy and integrity of the results."
   ]
  },
  {
   "cell_type": "code",
   "execution_count": 18,
   "id": "30363531",
   "metadata": {
    "scrolled": false
   },
   "outputs": [
    {
     "data": {
      "image/png": "[encoded data removed]",
      "text/plain": [
       "<Figure size 640x480 with 1 Axes>"
      ]
     },
     "metadata": {},
     "output_type": "display_data"
    }
   ],
   "source": [
    "# Viewing the feature using boxplot - 3. Age\n",
    "plt.title('Age Distribution')\n",
    "titanic.Age.plot.box()\n",
    "plt.show()"
   ]
  },
  {
   "cell_type": "markdown",
   "id": "9bcfd721",
   "metadata": {},
   "source": [
    "Based on the box plot, we see that ages span from 0 to 80 years, with a notable concentration of individuals aged between 20 and 40 years. The median age is around 28 years. However, it wouldn't be appropriate to impute missing ages uniformly, as they represent a significant portion of the dataset."
   ]
  },
  {
   "cell_type": "code",
   "execution_count": 40,
   "id": "f0b59c4d",
   "metadata": {},
   "outputs": [
    {
     "data": {
      "image/png": "[encoded data removed]",
      "text/plain": [
       "<Figure size 640x480 with 2 Axes>"
      ]
     },
     "metadata": {},
     "output_type": "display_data"
    }
   ],
   "source": [
    "# Visualizing the correlation of Age feature with other variables\n",
    "plt.title('Correlation of Age with other variables')\n",
    "sns.heatmap(titanic[['Survived', 'Pclass','Age', 'SibSp','Parch', 'Fare']].corr() , annot = True , cmap = 'twilight_shifted')\n",
    "plt.show()"
   ]
  },
  {
   "cell_type": "markdown",
   "id": "2e9b1a15",
   "metadata": {},
   "source": [
    "The heatmap suggests that Age lacks strong correlations with other features for imputation, whereas P_class shows a notable correlation of -0.41, which is significant for decision-making regarding imputation strategies.\n",
    "\n",
    "We can extract titles from the feature 'Name' and use their mean values within their 'Pclass' to impute age."
   ]
  },
  {
   "cell_type": "markdown",
   "id": "9c1064a8",
   "metadata": {},
   "source": [
    "#### 4.2.1 Feature engineering"
   ]
  },
  {
   "cell_type": "code",
   "execution_count": 20,
   "id": "b732d87f",
   "metadata": {},
   "outputs": [
    {
     "data": {
      "text/html": [
       "<div>\n",
       "<style scoped>\n",
       "    .dataframe tbody tr th:only-of-type {\n",
       "        vertical-align: middle;\n",
       "    }\n",
       "\n",
       "    .dataframe tbody tr th {\n",
       "        vertical-align: top;\n",
       "    }\n",
       "\n",
       "    .dataframe thead th {\n",
       "        text-align: right;\n",
       "    }\n",
       "</style>\n",
       "<table border=\"1\" class=\"dataframe\">\n",
       "  <thead>\n",
       "    <tr style=\"text-align: right;\">\n",
       "      <th></th>\n",
       "      <th>PassengerId</th>\n",
       "      <th>Survived</th>\n",
       "      <th>Pclass</th>\n",
       "      <th>Name</th>\n",
       "      <th>Sex</th>\n",
       "      <th>Age</th>\n",
       "      <th>SibSp</th>\n",
       "      <th>Parch</th>\n",
       "      <th>Ticket</th>\n",
       "      <th>Fare</th>\n",
       "      <th>Embarked</th>\n",
       "      <th>Title</th>\n",
       "    </tr>\n",
       "  </thead>\n",
       "  <tbody>\n",
       "    <tr>\n",
       "      <th>0</th>\n",
       "      <td>1</td>\n",
       "      <td>0</td>\n",
       "      <td>3</td>\n",
       "      <td>Braund, Mr. Owen Harris</td>\n",
       "      <td>male</td>\n",
       "      <td>22.0</td>\n",
       "      <td>1</td>\n",
       "      <td>0</td>\n",
       "      <td>A/5 21171</td>\n",
       "      <td>7.2500</td>\n",
       "      <td>S</td>\n",
       "      <td>Mr</td>\n",
       "    </tr>\n",
       "    <tr>\n",
       "      <th>1</th>\n",
       "      <td>2</td>\n",
       "      <td>1</td>\n",
       "      <td>1</td>\n",
       "      <td>Cumings, Mrs. John Bradley (Florence Briggs Th...</td>\n",
       "      <td>female</td>\n",
       "      <td>38.0</td>\n",
       "      <td>1</td>\n",
       "      <td>0</td>\n",
       "      <td>PC 17599</td>\n",
       "      <td>71.2833</td>\n",
       "      <td>C</td>\n",
       "      <td>Mrs</td>\n",
       "    </tr>\n",
       "    <tr>\n",
       "      <th>2</th>\n",
       "      <td>3</td>\n",
       "      <td>1</td>\n",
       "      <td>3</td>\n",
       "      <td>Heikkinen, Miss. Laina</td>\n",
       "      <td>female</td>\n",
       "      <td>26.0</td>\n",
       "      <td>0</td>\n",
       "      <td>0</td>\n",
       "      <td>STON/O2. 3101282</td>\n",
       "      <td>7.9250</td>\n",
       "      <td>S</td>\n",
       "      <td>Miss</td>\n",
       "    </tr>\n",
       "    <tr>\n",
       "      <th>3</th>\n",
       "      <td>4</td>\n",
       "      <td>1</td>\n",
       "      <td>1</td>\n",
       "      <td>Futrelle, Mrs. Jacques Heath (Lily May Peel)</td>\n",
       "      <td>female</td>\n",
       "      <td>35.0</td>\n",
       "      <td>1</td>\n",
       "      <td>0</td>\n",
       "      <td>113803</td>\n",
       "      <td>53.1000</td>\n",
       "      <td>S</td>\n",
       "      <td>Mrs</td>\n",
       "    </tr>\n",
       "    <tr>\n",
       "      <th>4</th>\n",
       "      <td>5</td>\n",
       "      <td>0</td>\n",
       "      <td>3</td>\n",
       "      <td>Allen, Mr. William Henry</td>\n",
       "      <td>male</td>\n",
       "      <td>35.0</td>\n",
       "      <td>0</td>\n",
       "      <td>0</td>\n",
       "      <td>373450</td>\n",
       "      <td>8.0500</td>\n",
       "      <td>S</td>\n",
       "      <td>Mr</td>\n",
       "    </tr>\n",
       "  </tbody>\n",
       "</table>\n",
       "</div>"
      ],
      "text/plain": [
       "   PassengerId  Survived  Pclass  \\\n",
       "0            1         0       3   \n",
       "1            2         1       1   \n",
       "2            3         1       3   \n",
       "3            4         1       1   \n",
       "4            5         0       3   \n",
       "\n",
       "                                                Name     Sex   Age  SibSp  \\\n",
       "0                            Braund, Mr. Owen Harris    male  22.0      1   \n",
       "1  Cumings, Mrs. John Bradley (Florence Briggs Th...  female  38.0      1   \n",
       "2                             Heikkinen, Miss. Laina  female  26.0      0   \n",
       "3       Futrelle, Mrs. Jacques Heath (Lily May Peel)  female  35.0      1   \n",
       "4                           Allen, Mr. William Henry    male  35.0      0   \n",
       "\n",
       "   Parch            Ticket     Fare Embarked Title  \n",
       "0      0         A/5 21171   7.2500        S    Mr  \n",
       "1      0          PC 17599  71.2833        C   Mrs  \n",
       "2      0  STON/O2. 3101282   7.9250        S  Miss  \n",
       "3      0            113803  53.1000        S   Mrs  \n",
       "4      0            373450   8.0500        S    Mr  "
      ]
     },
     "execution_count": 20,
     "metadata": {},
     "output_type": "execute_result"
    }
   ],
   "source": [
    "# Extracting the Title\n",
    "titanic['Title'] = titanic['Name'].str.extract('([A-Za-z]+)\\.' , expand = False)\n",
    "\n",
    "# Verify\n",
    "titanic.head()"
   ]
  },
  {
   "cell_type": "code",
   "execution_count": 21,
   "id": "12edd054",
   "metadata": {
    "scrolled": true
   },
   "outputs": [
    {
     "data": {
      "text/plain": [
       "Title\n",
       "Mr        176\n",
       "Miss       50\n",
       "Mrs        27\n",
       "Master      8\n",
       "Dr          1\n",
       "Ms          1\n",
       "Name: count, dtype: int64"
      ]
     },
     "execution_count": 21,
     "metadata": {},
     "output_type": "execute_result"
    }
   ],
   "source": [
    "# Finding the number of missing values for each title\n",
    "titanic[['Title','Age']][titanic['Age'].isnull()].Title.value_counts()"
   ]
  },
  {
   "cell_type": "markdown",
   "id": "0cd5f044",
   "metadata": {},
   "source": [
    "There are two categories, \"Miss\" and \"Ms\". Let's standardize them by converting all instances of \"Ms\" to \"Miss\" to unify them."
   ]
  },
  {
   "cell_type": "code",
   "execution_count": 22,
   "id": "2ec2ef77",
   "metadata": {},
   "outputs": [
    {
     "data": {
      "text/html": [
       "<div>\n",
       "<style scoped>\n",
       "    .dataframe tbody tr th:only-of-type {\n",
       "        vertical-align: middle;\n",
       "    }\n",
       "\n",
       "    .dataframe tbody tr th {\n",
       "        vertical-align: top;\n",
       "    }\n",
       "\n",
       "    .dataframe thead th {\n",
       "        text-align: right;\n",
       "    }\n",
       "</style>\n",
       "<table border=\"1\" class=\"dataframe\">\n",
       "  <thead>\n",
       "    <tr style=\"text-align: right;\">\n",
       "      <th></th>\n",
       "      <th></th>\n",
       "      <th>count</th>\n",
       "      <th>mean</th>\n",
       "    </tr>\n",
       "    <tr>\n",
       "      <th>Title</th>\n",
       "      <th>Pclass</th>\n",
       "      <th></th>\n",
       "      <th></th>\n",
       "    </tr>\n",
       "  </thead>\n",
       "  <tbody>\n",
       "    <tr>\n",
       "      <th>Capt</th>\n",
       "      <th>1</th>\n",
       "      <td>1</td>\n",
       "      <td>70.000000</td>\n",
       "    </tr>\n",
       "    <tr>\n",
       "      <th>Col</th>\n",
       "      <th>1</th>\n",
       "      <td>4</td>\n",
       "      <td>54.000000</td>\n",
       "    </tr>\n",
       "    <tr>\n",
       "      <th>Countess</th>\n",
       "      <th>1</th>\n",
       "      <td>1</td>\n",
       "      <td>33.000000</td>\n",
       "    </tr>\n",
       "    <tr>\n",
       "      <th>Don</th>\n",
       "      <th>1</th>\n",
       "      <td>1</td>\n",
       "      <td>40.000000</td>\n",
       "    </tr>\n",
       "    <tr>\n",
       "      <th>Dona</th>\n",
       "      <th>1</th>\n",
       "      <td>1</td>\n",
       "      <td>39.000000</td>\n",
       "    </tr>\n",
       "    <tr>\n",
       "      <th rowspan=\"2\" valign=\"top\">Dr</th>\n",
       "      <th>1</th>\n",
       "      <td>5</td>\n",
       "      <td>45.600000</td>\n",
       "    </tr>\n",
       "    <tr>\n",
       "      <th>2</th>\n",
       "      <td>2</td>\n",
       "      <td>38.500000</td>\n",
       "    </tr>\n",
       "    <tr>\n",
       "      <th>Jonkheer</th>\n",
       "      <th>1</th>\n",
       "      <td>1</td>\n",
       "      <td>38.000000</td>\n",
       "    </tr>\n",
       "    <tr>\n",
       "      <th>Lady</th>\n",
       "      <th>1</th>\n",
       "      <td>1</td>\n",
       "      <td>48.000000</td>\n",
       "    </tr>\n",
       "    <tr>\n",
       "      <th>Major</th>\n",
       "      <th>1</th>\n",
       "      <td>2</td>\n",
       "      <td>48.500000</td>\n",
       "    </tr>\n",
       "    <tr>\n",
       "      <th rowspan=\"3\" valign=\"top\">Master</th>\n",
       "      <th>1</th>\n",
       "      <td>5</td>\n",
       "      <td>6.984000</td>\n",
       "    </tr>\n",
       "    <tr>\n",
       "      <th>2</th>\n",
       "      <td>11</td>\n",
       "      <td>2.757273</td>\n",
       "    </tr>\n",
       "    <tr>\n",
       "      <th>3</th>\n",
       "      <td>37</td>\n",
       "      <td>6.090000</td>\n",
       "    </tr>\n",
       "    <tr>\n",
       "      <th rowspan=\"3\" valign=\"top\">Miss</th>\n",
       "      <th>1</th>\n",
       "      <td>59</td>\n",
       "      <td>30.338983</td>\n",
       "    </tr>\n",
       "    <tr>\n",
       "      <th>2</th>\n",
       "      <td>49</td>\n",
       "      <td>20.865714</td>\n",
       "    </tr>\n",
       "    <tr>\n",
       "      <th>3</th>\n",
       "      <td>103</td>\n",
       "      <td>17.360874</td>\n",
       "    </tr>\n",
       "    <tr>\n",
       "      <th>Mlle</th>\n",
       "      <th>1</th>\n",
       "      <td>2</td>\n",
       "      <td>24.000000</td>\n",
       "    </tr>\n",
       "    <tr>\n",
       "      <th>Mme</th>\n",
       "      <th>1</th>\n",
       "      <td>1</td>\n",
       "      <td>24.000000</td>\n",
       "    </tr>\n",
       "    <tr>\n",
       "      <th rowspan=\"3\" valign=\"top\">Mr</th>\n",
       "      <th>1</th>\n",
       "      <td>132</td>\n",
       "      <td>41.450758</td>\n",
       "    </tr>\n",
       "    <tr>\n",
       "      <th>2</th>\n",
       "      <td>137</td>\n",
       "      <td>32.346715</td>\n",
       "    </tr>\n",
       "    <tr>\n",
       "      <th>3</th>\n",
       "      <td>312</td>\n",
       "      <td>28.318910</td>\n",
       "    </tr>\n",
       "    <tr>\n",
       "      <th rowspan=\"3\" valign=\"top\">Mrs</th>\n",
       "      <th>1</th>\n",
       "      <td>67</td>\n",
       "      <td>43.208955</td>\n",
       "    </tr>\n",
       "    <tr>\n",
       "      <th>2</th>\n",
       "      <td>54</td>\n",
       "      <td>33.518519</td>\n",
       "    </tr>\n",
       "    <tr>\n",
       "      <th>3</th>\n",
       "      <td>49</td>\n",
       "      <td>32.326531</td>\n",
       "    </tr>\n",
       "    <tr>\n",
       "      <th>Rev</th>\n",
       "      <th>2</th>\n",
       "      <td>8</td>\n",
       "      <td>41.250000</td>\n",
       "    </tr>\n",
       "    <tr>\n",
       "      <th>Sir</th>\n",
       "      <th>1</th>\n",
       "      <td>1</td>\n",
       "      <td>49.000000</td>\n",
       "    </tr>\n",
       "  </tbody>\n",
       "</table>\n",
       "</div>"
      ],
      "text/plain": [
       "                 count       mean\n",
       "Title    Pclass                  \n",
       "Capt     1           1  70.000000\n",
       "Col      1           4  54.000000\n",
       "Countess 1           1  33.000000\n",
       "Don      1           1  40.000000\n",
       "Dona     1           1  39.000000\n",
       "Dr       1           5  45.600000\n",
       "         2           2  38.500000\n",
       "Jonkheer 1           1  38.000000\n",
       "Lady     1           1  48.000000\n",
       "Major    1           2  48.500000\n",
       "Master   1           5   6.984000\n",
       "         2          11   2.757273\n",
       "         3          37   6.090000\n",
       "Miss     1          59  30.338983\n",
       "         2          49  20.865714\n",
       "         3         103  17.360874\n",
       "Mlle     1           2  24.000000\n",
       "Mme      1           1  24.000000\n",
       "Mr       1         132  41.450758\n",
       "         2         137  32.346715\n",
       "         3         312  28.318910\n",
       "Mrs      1          67  43.208955\n",
       "         2          54  33.518519\n",
       "         3          49  32.326531\n",
       "Rev      2           8  41.250000\n",
       "Sir      1           1  49.000000"
      ]
     },
     "execution_count": 22,
     "metadata": {},
     "output_type": "execute_result"
    }
   ],
   "source": [
    "# Unifying Ms and Miss\n",
    "titanic.Title[titanic.Title == 'Ms'] = 'Miss'\n",
    "\n",
    "# Finding the mean age of each category based on Pclass and Title\n",
    "titanic.groupby(['Title', 'Pclass'])['Age'].agg(['count', 'mean'])"
   ]
  },
  {
   "cell_type": "code",
   "execution_count": 23,
   "id": "dfb80596",
   "metadata": {},
   "outputs": [
    {
     "data": {
      "text/plain": [
       "Title\n",
       "Mr        176\n",
       "Miss       51\n",
       "Mrs        27\n",
       "Master      8\n",
       "Dr          1\n",
       "Name: count, dtype: int64"
      ]
     },
     "execution_count": 23,
     "metadata": {},
     "output_type": "execute_result"
    }
   ],
   "source": [
    "# Finding the number of missing values for each title\n",
    "titanic[['Title','Age']][titanic['Age'].isnull()].Title.value_counts()"
   ]
  },
  {
   "cell_type": "markdown",
   "id": "d9c0afaf",
   "metadata": {},
   "source": [
    "Let's proceed with imputing values based on the mean values derived from the table above."
   ]
  },
  {
   "cell_type": "code",
   "execution_count": 24,
   "id": "930ac3d7",
   "metadata": {},
   "outputs": [
    {
     "data": {
      "text/html": [
       "<div>\n",
       "<style scoped>\n",
       "    .dataframe tbody tr th:only-of-type {\n",
       "        vertical-align: middle;\n",
       "    }\n",
       "\n",
       "    .dataframe tbody tr th {\n",
       "        vertical-align: top;\n",
       "    }\n",
       "\n",
       "    .dataframe thead th {\n",
       "        text-align: right;\n",
       "    }\n",
       "</style>\n",
       "<table border=\"1\" class=\"dataframe\">\n",
       "  <thead>\n",
       "    <tr style=\"text-align: right;\">\n",
       "      <th></th>\n",
       "      <th>PassengerId</th>\n",
       "      <th>Survived</th>\n",
       "      <th>Pclass</th>\n",
       "      <th>Name</th>\n",
       "      <th>Sex</th>\n",
       "      <th>Age</th>\n",
       "      <th>SibSp</th>\n",
       "      <th>Parch</th>\n",
       "      <th>Ticket</th>\n",
       "      <th>Fare</th>\n",
       "      <th>Embarked</th>\n",
       "      <th>Title</th>\n",
       "    </tr>\n",
       "  </thead>\n",
       "  <tbody>\n",
       "    <tr>\n",
       "      <th>65</th>\n",
       "      <td>66</td>\n",
       "      <td>1</td>\n",
       "      <td>3</td>\n",
       "      <td>Moubarek, Master. Gerios</td>\n",
       "      <td>male</td>\n",
       "      <td>NaN</td>\n",
       "      <td>1</td>\n",
       "      <td>1</td>\n",
       "      <td>2661</td>\n",
       "      <td>15.2458</td>\n",
       "      <td>C</td>\n",
       "      <td>Master</td>\n",
       "    </tr>\n",
       "    <tr>\n",
       "      <th>159</th>\n",
       "      <td>160</td>\n",
       "      <td>0</td>\n",
       "      <td>3</td>\n",
       "      <td>Sage, Master. Thomas Henry</td>\n",
       "      <td>male</td>\n",
       "      <td>NaN</td>\n",
       "      <td>8</td>\n",
       "      <td>2</td>\n",
       "      <td>CA. 2343</td>\n",
       "      <td>69.5500</td>\n",
       "      <td>S</td>\n",
       "      <td>Master</td>\n",
       "    </tr>\n",
       "    <tr>\n",
       "      <th>176</th>\n",
       "      <td>177</td>\n",
       "      <td>0</td>\n",
       "      <td>3</td>\n",
       "      <td>Lefebre, Master. Henry Forbes</td>\n",
       "      <td>male</td>\n",
       "      <td>NaN</td>\n",
       "      <td>3</td>\n",
       "      <td>1</td>\n",
       "      <td>4133</td>\n",
       "      <td>25.4667</td>\n",
       "      <td>S</td>\n",
       "      <td>Master</td>\n",
       "    </tr>\n",
       "    <tr>\n",
       "      <th>709</th>\n",
       "      <td>710</td>\n",
       "      <td>1</td>\n",
       "      <td>3</td>\n",
       "      <td>Moubarek, Master. Halim Gonios (\"William George\")</td>\n",
       "      <td>male</td>\n",
       "      <td>NaN</td>\n",
       "      <td>1</td>\n",
       "      <td>1</td>\n",
       "      <td>2661</td>\n",
       "      <td>15.2458</td>\n",
       "      <td>C</td>\n",
       "      <td>Master</td>\n",
       "    </tr>\n",
       "    <tr>\n",
       "      <th>1135</th>\n",
       "      <td>1136</td>\n",
       "      <td>0</td>\n",
       "      <td>3</td>\n",
       "      <td>Johnston, Master. William Arthur Willie\"\"</td>\n",
       "      <td>male</td>\n",
       "      <td>NaN</td>\n",
       "      <td>1</td>\n",
       "      <td>2</td>\n",
       "      <td>W./C. 6607</td>\n",
       "      <td>23.4500</td>\n",
       "      <td>S</td>\n",
       "      <td>Master</td>\n",
       "    </tr>\n",
       "    <tr>\n",
       "      <th>1230</th>\n",
       "      <td>1231</td>\n",
       "      <td>0</td>\n",
       "      <td>3</td>\n",
       "      <td>Betros, Master. Seman</td>\n",
       "      <td>male</td>\n",
       "      <td>NaN</td>\n",
       "      <td>0</td>\n",
       "      <td>0</td>\n",
       "      <td>2622</td>\n",
       "      <td>7.2292</td>\n",
       "      <td>C</td>\n",
       "      <td>Master</td>\n",
       "    </tr>\n",
       "    <tr>\n",
       "      <th>1235</th>\n",
       "      <td>1236</td>\n",
       "      <td>0</td>\n",
       "      <td>3</td>\n",
       "      <td>van Billiard, Master. James William</td>\n",
       "      <td>male</td>\n",
       "      <td>NaN</td>\n",
       "      <td>1</td>\n",
       "      <td>1</td>\n",
       "      <td>A/5. 851</td>\n",
       "      <td>14.5000</td>\n",
       "      <td>S</td>\n",
       "      <td>Master</td>\n",
       "    </tr>\n",
       "    <tr>\n",
       "      <th>1308</th>\n",
       "      <td>1309</td>\n",
       "      <td>0</td>\n",
       "      <td>3</td>\n",
       "      <td>Peter, Master. Michael J</td>\n",
       "      <td>male</td>\n",
       "      <td>NaN</td>\n",
       "      <td>1</td>\n",
       "      <td>1</td>\n",
       "      <td>2668</td>\n",
       "      <td>22.3583</td>\n",
       "      <td>C</td>\n",
       "      <td>Master</td>\n",
       "    </tr>\n",
       "  </tbody>\n",
       "</table>\n",
       "</div>"
      ],
      "text/plain": [
       "      PassengerId  Survived  Pclass  \\\n",
       "65             66         1       3   \n",
       "159           160         0       3   \n",
       "176           177         0       3   \n",
       "709           710         1       3   \n",
       "1135         1136         0       3   \n",
       "1230         1231         0       3   \n",
       "1235         1236         0       3   \n",
       "1308         1309         0       3   \n",
       "\n",
       "                                                   Name   Sex  Age  SibSp  \\\n",
       "65                             Moubarek, Master. Gerios  male  NaN      1   \n",
       "159                          Sage, Master. Thomas Henry  male  NaN      8   \n",
       "176                       Lefebre, Master. Henry Forbes  male  NaN      3   \n",
       "709   Moubarek, Master. Halim Gonios (\"William George\")  male  NaN      1   \n",
       "1135          Johnston, Master. William Arthur Willie\"\"  male  NaN      1   \n",
       "1230                              Betros, Master. Seman  male  NaN      0   \n",
       "1235                van Billiard, Master. James William  male  NaN      1   \n",
       "1308                           Peter, Master. Michael J  male  NaN      1   \n",
       "\n",
       "      Parch      Ticket     Fare Embarked   Title  \n",
       "65        1        2661  15.2458        C  Master  \n",
       "159       2    CA. 2343  69.5500        S  Master  \n",
       "176       1        4133  25.4667        S  Master  \n",
       "709       1        2661  15.2458        C  Master  \n",
       "1135      2  W./C. 6607  23.4500        S  Master  \n",
       "1230      0        2622   7.2292        C  Master  \n",
       "1235      1    A/5. 851  14.5000        S  Master  \n",
       "1308      1        2668  22.3583        C  Master  "
      ]
     },
     "execution_count": 24,
     "metadata": {},
     "output_type": "execute_result"
    }
   ],
   "source": [
    "# Imputing Age Categories\n",
    "\n",
    "# 1. Master\n",
    "titanic[(titanic['Title'] == 'Master') & (titanic.Age.isna())]"
   ]
  },
  {
   "cell_type": "markdown",
   "id": "51552daa",
   "metadata": {},
   "source": [
    "Based on the data observed, there is one \"Master\" traveling alone. Typically, we assume the lone traveler is 14 years old, which is the maximum age considered as a child. Let's impute this age as 14.\n",
    "\n",
    "All the children belong to Pclass = 3. Let's impute their ages with the mean age for Pclass 3, which is 6."
   ]
  },
  {
   "cell_type": "code",
   "execution_count": 25,
   "id": "beb352d3",
   "metadata": {},
   "outputs": [],
   "source": [
    "# Imputing the Age of Master travelling alone\n",
    "titanic.Age[(titanic['Title'] == 'Master') & (titanic.Age.isna()) & (titanic.SibSp == 0)] = 14\n",
    "\n",
    "# Imputing the Age of other Masters\n",
    "titanic.Age[(titanic['Title'] == 'Master') & (titanic.Age.isna())] = 8"
   ]
  },
  {
   "cell_type": "code",
   "execution_count": 26,
   "id": "3c932ed6",
   "metadata": {},
   "outputs": [
    {
     "data": {
      "text/plain": [
       "Title\n",
       "Mr      176\n",
       "Miss     51\n",
       "Mrs      27\n",
       "Dr        1\n",
       "Name: count, dtype: int64"
      ]
     },
     "execution_count": 26,
     "metadata": {},
     "output_type": "execute_result"
    }
   ],
   "source": [
    "# Finding the number of missing values for each title\n",
    "titanic[['Title','Age']][titanic['Age'].isnull()].Title.value_counts()"
   ]
  },
  {
   "cell_type": "markdown",
   "id": "71992a45",
   "metadata": {},
   "source": [
    "We have four more titles to handle. Let’s write a simple program to automate the imputation."
   ]
  },
  {
   "cell_type": "code",
   "execution_count": 27,
   "id": "3a5c1d63",
   "metadata": {},
   "outputs": [],
   "source": [
    "# Creating a datframe from the groupby output\n",
    "age_pclass_summary = titanic.groupby(['Title', 'Pclass'])['Age'].agg(['count', 'mean'])\n",
    "age_pclass_summary['mean'] = round(age_pclass_summary['mean'],2)\n",
    "\n",
    "# Assigning the titles to a list variable\n",
    "titles = ['Mr' , 'Miss' , 'Mrs' , 'Dr']\n",
    "\n",
    "# Program to impute missing Age values based on title and Pclass\n",
    "for x in titles:\n",
    "    for index,rows in titanic[(titanic['Title'] == x) & (titanic['Age'].isna())].iterrows():\n",
    "        pclass = titanic.iloc[index]['Pclass']\n",
    "        titanic.at[index, 'Age'] = age_pclass_summary.loc[x,pclass][1]"
   ]
  },
  {
   "cell_type": "code",
   "execution_count": 28,
   "id": "337aea6d",
   "metadata": {
    "scrolled": false
   },
   "outputs": [
    {
     "data": {
      "text/plain": [
       "Series([], dtype: int64)"
      ]
     },
     "execution_count": 28,
     "metadata": {},
     "output_type": "execute_result"
    }
   ],
   "source": [
    "# Verifying the missing values list\n",
    "titanic.isnull().sum()[titanic.isnull().sum()>0]"
   ]
  },
  {
   "cell_type": "markdown",
   "id": "c0161a38",
   "metadata": {},
   "source": [
    "All the missing values has been handled. "
   ]
  },
  {
   "cell_type": "markdown",
   "id": "a521d87f",
   "metadata": {},
   "source": [
    "## 5. Data Preparation"
   ]
  },
  {
   "cell_type": "markdown",
   "id": "3a8aa1b4",
   "metadata": {},
   "source": [
    "Let's create a new DataFrame containing only the variables that we will use for conducting Exploratory Data Analysis (EDA). This involves selecting and organizing the relevant columns needed for our analysis."
   ]
  },
  {
   "cell_type": "code",
   "execution_count": 29,
   "id": "cbd6eaf5",
   "metadata": {},
   "outputs": [],
   "source": [
    "# Creating a new dataframe with varaibles for EDA\n",
    "titanic_eda = titanic[['Survived', 'Pclass',  'Sex', 'Age', 'SibSp','Parch',  'Fare', 'Embarked']]"
   ]
  },
  {
   "cell_type": "markdown",
   "id": "ea54a054",
   "metadata": {},
   "source": [
    "We excluded 'PassengerId', 'Name','Title' and 'Ticket' from the Titanic dataset as they do not contribute to the dataset's analysis."
   ]
  },
  {
   "cell_type": "markdown",
   "id": "37cdb2ee",
   "metadata": {},
   "source": [
    "## 6. Exploratory Data Analysis\n",
    "\n",
    "To explore the relationship among the features."
   ]
  },
  {
   "cell_type": "code",
   "execution_count": 30,
   "id": "e97cac2c",
   "metadata": {},
   "outputs": [
    {
     "data": {
      "text/html": [
       "<div>\n",
       "<style scoped>\n",
       "    .dataframe tbody tr th:only-of-type {\n",
       "        vertical-align: middle;\n",
       "    }\n",
       "\n",
       "    .dataframe tbody tr th {\n",
       "        vertical-align: top;\n",
       "    }\n",
       "\n",
       "    .dataframe thead th {\n",
       "        text-align: right;\n",
       "    }\n",
       "</style>\n",
       "<table border=\"1\" class=\"dataframe\">\n",
       "  <thead>\n",
       "    <tr style=\"text-align: right;\">\n",
       "      <th></th>\n",
       "      <th>Survived</th>\n",
       "      <th>Pclass</th>\n",
       "      <th>Sex</th>\n",
       "      <th>Age</th>\n",
       "      <th>SibSp</th>\n",
       "      <th>Parch</th>\n",
       "      <th>Fare</th>\n",
       "      <th>Embarked</th>\n",
       "    </tr>\n",
       "  </thead>\n",
       "  <tbody>\n",
       "    <tr>\n",
       "      <th>0</th>\n",
       "      <td>0</td>\n",
       "      <td>3</td>\n",
       "      <td>male</td>\n",
       "      <td>22.0</td>\n",
       "      <td>1</td>\n",
       "      <td>0</td>\n",
       "      <td>7.2500</td>\n",
       "      <td>S</td>\n",
       "    </tr>\n",
       "    <tr>\n",
       "      <th>1</th>\n",
       "      <td>1</td>\n",
       "      <td>1</td>\n",
       "      <td>female</td>\n",
       "      <td>38.0</td>\n",
       "      <td>1</td>\n",
       "      <td>0</td>\n",
       "      <td>71.2833</td>\n",
       "      <td>C</td>\n",
       "    </tr>\n",
       "    <tr>\n",
       "      <th>2</th>\n",
       "      <td>1</td>\n",
       "      <td>3</td>\n",
       "      <td>female</td>\n",
       "      <td>26.0</td>\n",
       "      <td>0</td>\n",
       "      <td>0</td>\n",
       "      <td>7.9250</td>\n",
       "      <td>S</td>\n",
       "    </tr>\n",
       "    <tr>\n",
       "      <th>3</th>\n",
       "      <td>1</td>\n",
       "      <td>1</td>\n",
       "      <td>female</td>\n",
       "      <td>35.0</td>\n",
       "      <td>1</td>\n",
       "      <td>0</td>\n",
       "      <td>53.1000</td>\n",
       "      <td>S</td>\n",
       "    </tr>\n",
       "    <tr>\n",
       "      <th>4</th>\n",
       "      <td>0</td>\n",
       "      <td>3</td>\n",
       "      <td>male</td>\n",
       "      <td>35.0</td>\n",
       "      <td>0</td>\n",
       "      <td>0</td>\n",
       "      <td>8.0500</td>\n",
       "      <td>S</td>\n",
       "    </tr>\n",
       "  </tbody>\n",
       "</table>\n",
       "</div>"
      ],
      "text/plain": [
       "   Survived  Pclass     Sex   Age  SibSp  Parch     Fare Embarked\n",
       "0         0       3    male  22.0      1      0   7.2500        S\n",
       "1         1       1  female  38.0      1      0  71.2833        C\n",
       "2         1       3  female  26.0      0      0   7.9250        S\n",
       "3         1       1  female  35.0      1      0  53.1000        S\n",
       "4         0       3    male  35.0      0      0   8.0500        S"
      ]
     },
     "execution_count": 30,
     "metadata": {},
     "output_type": "execute_result"
    }
   ],
   "source": [
    "# Viewing the data\n",
    "titanic_eda.head()"
   ]
  },
  {
   "cell_type": "markdown",
   "id": "04c0c9a2",
   "metadata": {},
   "source": [
    "#### 6.1 Bivariate Analysis"
   ]
  },
  {
   "cell_type": "code",
   "execution_count": 31,
   "id": "fc1f74a5",
   "metadata": {},
   "outputs": [
    {
     "name": "stdout",
     "output_type": "stream",
     "text": [
      "Survival %\n",
      "Total : 37.74 %\n",
      "Female: 77.94 %\n",
      "Male  : 22.06 %\n"
     ]
    }
   ],
   "source": [
    "# 1. % of Survivors\n",
    "print('Survival %')\n",
    "print('Total :',round(titanic_eda.Survived.sum() * 100/titanic_eda.shape[0] , 2) , '%')\n",
    "print('Female:',round( titanic_eda[(titanic_eda['Sex'] == 'female') & (titanic_eda.Survived == 1)].shape[0]* 100/titanic_eda.Survived.sum() , 2) , '%')\n",
    "print('Male  :',round( titanic_eda[(titanic_eda['Sex'] == 'male') & (titanic_eda.Survived == 1)].shape[0]* 100/titanic_eda.Survived.sum() , 2) , '%')\n"
   ]
  },
  {
   "cell_type": "code",
   "execution_count": 32,
   "id": "fbaa51b4",
   "metadata": {},
   "outputs": [
    {
     "data": {
      "image/png": "[encoded data removed]",
      "text/plain": [
       "<Figure size 800x400 with 2 Axes>"
      ]
     },
     "metadata": {},
     "output_type": "display_data"
    }
   ],
   "source": [
    "# Plotting the % of Survivors\n",
    "fig, axes = plt.subplots(1,2,figsize = (8,4))\n",
    "\n",
    "Survival = {'Survived': 37.74 , 'Perished' : 63.26}\n",
    "labels= Survival.keys()\n",
    "values = Survival.values()\n",
    "axes[0].pie(values, labels = labels, autopct = '%.2f%%', startangle = 150 , colors = ['green' , 'orangered'])\n",
    "axes[0].set_title('Survival Distribution')\n",
    "\n",
    "plt.subplots_adjust(wspace=0.5)\n",
    "\n",
    "Survival = {'Female': 77.94 , 'Male' : 22.06}\n",
    "labels= Survival.keys()\n",
    "values = Survival.values()\n",
    "axes[1].pie(values, labels = labels, autopct = '%.2f%%', startangle = 75 , colors = ['pink' , 'skyblue'])\n",
    "axes[1].set_title('Gender Distribution Among Survivors')\n",
    "plt.show()"
   ]
  },
  {
   "cell_type": "markdown",
   "id": "5a471317",
   "metadata": {},
   "source": [
    "Among the total number of passengers, the survival rate is only 37%. Of those who survived, 77% are female and 22% are male, largely due to     the **\"women and children first\"** policy."
   ]
  },
  {
   "cell_type": "code",
   "execution_count": 33,
   "id": "2f4cae9e",
   "metadata": {},
   "outputs": [
    {
     "data": {
      "image/png": "[encoded data removed]",
      "text/plain": [
       "<Figure size 1000x400 with 2 Axes>"
      ]
     },
     "metadata": {},
     "output_type": "display_data"
    }
   ],
   "source": [
    "# 2. Plotting the Age distribution among Survivors and the Perished\n",
    "fig, axes = plt.subplots(1,2,figsize = (10,4))\n",
    "\n",
    "# Visualizing Age Distribution of Survivors\n",
    "axes[0].hist(titanic_eda.Age[titanic_eda['Survived']==1] , edgecolor ='white' , bins = 16 , color = 'green')\n",
    "axes[0].set_title('Age Distribution of Survivors')\n",
    "axes[0].set_xlabel('Age')\n",
    "axes[0].set_xticks([0,10,20,30,40,50,60,70,80])\n",
    "axes[0].set_yticks([50,100,150,200])\n",
    "axes[0].set_ylabel('Number of Survivors')\n",
    "\n",
    "# Visualizing Age Distribution of the Perished\n",
    "axes[1].hist(titanic_eda.Age[titanic_eda['Survived']==0] , edgecolor ='white' , bins = 14 , color = 'orangered')\n",
    "axes[1].set_title('Age Distribution of the Perished')\n",
    "axes[1].set_xlabel('Age')\n",
    "axes[1].set_xticks([0,10,20,30,40,50,60,70, 80])\n",
    "axes[1].set_ylabel('Number of the Perished')\n",
    "plt.show()"
   ]
  },
  {
   "cell_type": "markdown",
   "id": "f08633e2",
   "metadata": {},
   "source": [
    "The charts distinctly illustrates a lower count of survivors. The distribution of ages shows a skew towards younger survivors. Individuals around 30 years old had a higher chance of perishing, evident from the peak in the second histogram.\n",
    "\n",
    "Factors contributing to this pattern may include the prioritization of women and children in lifeboats and the presence of stronger individuals within the 20-40 age group."
   ]
  },
  {
   "cell_type": "markdown",
   "id": "ca396757",
   "metadata": {},
   "source": [
    "#### 6.2 Multivariate Analysis"
   ]
  },
  {
   "cell_type": "code",
   "execution_count": 34,
   "id": "97ab69ac",
   "metadata": {},
   "outputs": [
    {
     "data": {
      "image/png": "[encoded data removed]",
      "text/plain": [
       "<Figure size 1000x400 with 2 Axes>"
      ]
     },
     "metadata": {},
     "output_type": "display_data"
    }
   ],
   "source": [
    "# 2. Visualizing the Age Distribution of Survivors by Gender\n",
    "\n",
    "fig, axes = plt.subplots(1,2,figsize = (10,4))\n",
    "\n",
    "# Visualizing Age Distribution of Survivors - Female\n",
    "axes[0].hist(titanic_eda.Age[(titanic_eda['Survived']==1) & (titanic_eda['Sex'] == 'female')] ,\\\n",
    "             edgecolor ='black' , bins = 16 , color = 'pink')\n",
    "axes[0].set_title('Age Distribution of Survivors - Female')\n",
    "axes[0].set_xlabel('Age')\n",
    "axes[0].set_xticks([0,10,20,30,40,50,60,70,80])\n",
    "axes[0].set_ylabel('Number of Survivors')\n",
    "\n",
    "# Visualizing Age Distribution of Survivors - Male\n",
    "axes[1].hist(titanic_eda.Age[(titanic_eda['Survived']==1) & (titanic_eda['Sex'] == 'male')] ,\\\n",
    "             edgecolor ='black' , bins = 14 , color = 'skyblue')\n",
    "axes[1].set_title('Age Distribution of Survivors - Male')\n",
    "axes[1].set_xlabel('Age')\n",
    "axes[1].set_xticks([0,10,20,30,40,50,60,70,80])\n",
    "axes[1].set_yticks([10,20,30,40,50,60,70,80])\n",
    "axes[1].set_ylabel('Number of Survivors')\n",
    "plt.show()"
   ]
  },
  {
   "cell_type": "markdown",
   "id": "fbf93afd",
   "metadata": {},
   "source": [
    "The chart clearly highlights the difference in survival rates between males and females, showing that more females survived.\n",
    "\n",
    "Women aged 15-20 and 30-35 had the highest survival rates, while those aged 65-80 had the lowest."
   ]
  },
  {
   "cell_type": "code",
   "execution_count": 35,
   "id": "a1524861",
   "metadata": {},
   "outputs": [
    {
     "data": {
      "image/png": "[encoded data removed]",
      "text/plain": [
       "<Figure size 1000x400 with 2 Axes>"
      ]
     },
     "metadata": {},
     "output_type": "display_data"
    }
   ],
   "source": [
    "# 3. Visualizing the Survivors from different classes\n",
    "sns.set_theme(style = 'whitegrid')\n",
    "\n",
    "fig, axes = plt.subplots(1,2,figsize = (10,4))\n",
    "\n",
    "# Plotting the count of passengers in each class\n",
    "pclass_total  = titanic_eda.groupby('Pclass')['Survived'].count()\n",
    "\n",
    "axes[0].barh(pclass_total.index , pclass_total.values , edgecolor = 'black' , color = 'slateblue')\n",
    "axes[0].set_title('Count of passengers in each class')\n",
    "axes[0].set_xlabel('Number of Passengers')\n",
    "axes[0].set_ylabel('Ticket Class')\n",
    "axes[0].set_yticks([1 , 2 , 3])\n",
    "\n",
    "# Plotting the count of passengers survived in each class\n",
    "pclass_survival  = titanic_eda.groupby('Pclass')['Survived'].sum()\n",
    "\n",
    "axes[1].barh(pclass_survival.index , pclass_survival.values , edgecolor = 'black' , color = 'green')\n",
    "axes[1].set_title('Count of Passengers Survived in each class')\n",
    "axes[1].set_xlabel('Number of Survivors')\n",
    "axes[1].set_xticks([100 , 200 , 300, 400, 500, 600, 700])\n",
    "axes[1].set_ylabel('Ticket Class')\n",
    "axes[1].set_yticks([1 , 2 , 3])\n",
    "\n",
    "plt.show()\n"
   ]
  },
  {
   "cell_type": "code",
   "execution_count": 36,
   "id": "41fc446d",
   "metadata": {},
   "outputs": [
    {
     "data": {
      "text/plain": [
       "Pclass\n",
       "1    57.59\n",
       "2    42.24\n",
       "3    26.94\n",
       "Name: Survived, dtype: float64"
      ]
     },
     "execution_count": 36,
     "metadata": {},
     "output_type": "execute_result"
    }
   ],
   "source": [
    "# Calculating the Percentage of Survivors in each class\n",
    "round(titanic_eda.groupby('Pclass')['Survived'].sum()*100/titanic_eda.groupby('Pclass')['Survived'].count(), 2)"
   ]
  },
  {
   "cell_type": "markdown",
   "id": "46a0b87e",
   "metadata": {},
   "source": [
    "The data exposes a stark contrast in survival rates among passenger classes aboard the Titanic. First-class passengers experienced significantly higher survival rates compared to those in second and third class. This suggests a potential influence of socioeconomic status on access to lifeboats during the tragic events of the disaster."
   ]
  },
  {
   "cell_type": "code",
   "execution_count": 37,
   "id": "64df2fe5",
   "metadata": {},
   "outputs": [
    {
     "data": {
      "image/png": "[encoded data removed]",
      "text/plain": [
       "<Figure size 1000x400 with 2 Axes>"
      ]
     },
     "metadata": {},
     "output_type": "display_data"
    }
   ],
   "source": [
    "# 4.  Visualizing the Distribution of Survivors by Embarked Port\n",
    "fig, axes = plt.subplots(1,2,figsize = (10,4))\n",
    "\n",
    "# Plotting the count of passengers in port\n",
    "port_total  = titanic_eda.groupby('Embarked')['Survived'].count()\n",
    "\n",
    "axes[0].barh(port_total.index , port_total.values , edgecolor = 'black' , color = 'slateblue')\n",
    "axes[0].set_title('Count of Passengers Embarked from Each Port')\n",
    "axes[0].set_xlabel('Number of Passengers')\n",
    "axes[0].set_xticks([100 , 200 , 300, 400, 500, 600, 700,800])\n",
    "axes[0].set_ylabel('Embarked Port')\n",
    "\n",
    "plt.subplots_adjust(wspace=0.5)\n",
    "# Plotting the count of passengers survived who embarked from different classes\n",
    "port_survival  = titanic_eda.groupby('Embarked')['Survived'].sum()\n",
    "\n",
    "axes[1].barh(port_survival.index , port_survival.values , edgecolor = 'black' , color = 'green')\n",
    "axes[1].set_title('Count of Passengers Who Survived from Each Embarkation Port')\n",
    "axes[1].set_xlabel('Number of Survivors')\n",
    "axes[1].set_xticks([100 , 200 , 300, 400, 500, 600, 700,800])\n",
    "axes[1].set_ylabel('Embarked Port')\n",
    "\n",
    "plt.show()"
   ]
  },
  {
   "cell_type": "code",
   "execution_count": 38,
   "id": "482ac78d",
   "metadata": {},
   "outputs": [
    {
     "data": {
      "text/plain": [
       "Embarked\n",
       "C    49.26\n",
       "Q    43.90\n",
       "S    33.52\n",
       "Name: Survived, dtype: float64"
      ]
     },
     "execution_count": 38,
     "metadata": {},
     "output_type": "execute_result"
    }
   ],
   "source": [
    "# Calculating the Percentage of Survivors in each class\n",
    "round(titanic_eda.groupby('Embarked')['Survived'].sum()*100/titanic_eda.groupby('Embarked')['Survived'].count(), 2)"
   ]
  },
  {
   "cell_type": "markdown",
   "id": "7152b48d",
   "metadata": {},
   "source": [
    "The embarked port doesn't directly influence the survival rate. However, from the chart, we can see that the highest number of passengers boarded at **Southampton**, where the journey began, while the lowest number boarded at **Queenstown**, the last port."
   ]
  },
  {
   "cell_type": "code",
   "execution_count": 39,
   "id": "0a34fea8",
   "metadata": {
    "scrolled": false
   },
   "outputs": [
    {
     "data": {
      "image/png": "[encoded data removed]",
      "text/plain": [
       "<Figure size 1000x400 with 2 Axes>"
      ]
     },
     "metadata": {},
     "output_type": "display_data"
    }
   ],
   "source": [
    "# 5.Visualizing Fare Distribution Among Different Ticket Classes for Survivors and Non-Survivors\n",
    "\n",
    "fig, axes = plt.subplots(1,2,figsize = (10,4))\n",
    "\n",
    "# Visualizing fare distribution across different classes\n",
    "sns.scatterplot( pd.pivot_table(titanic_eda,values = 'Fare', index ='Survived', columns = 'Pclass', \\\n",
    "                                aggfunc = 'sum' ).round(2), ax =axes[0], palette = 'twilight')\n",
    "axes[0].set_title('Fare distribution across passenger classes \\n for survivors and non-survivors' , pad = 20)\n",
    "axes[0].legend(loc = 'upper left')\n",
    "axes[0].set_xticks([0,1])\n",
    "axes[0].set_xticklabels(['Non-Survivors','Survivors'])\n",
    "axes[0].set_xlabel('')\n",
    "\n",
    "\n",
    "# Visualizing fare distribution across different classes\n",
    "sns.scatterplot(pd.pivot_table(titanic_eda, index ='Survived', columns = 'Pclass', aggfunc='size'), palette = 'twilight')\n",
    "axes[1].set_title('Total Passengers Survived and Not Survived \\nAcross Different Classes', pad = 20)\n",
    "axes[1].legend(loc = 'upper right')\n",
    "\n",
    "axes[1].set_xticks([0,1])\n",
    "axes[1].set_xticklabels(['Non-Survivors','Survivors'])\n",
    "axes[1].set_xlabel('')\n",
    "plt.show()"
   ]
  },
  {
   "cell_type": "markdown",
   "id": "1b8cb990",
   "metadata": {},
   "source": [
    "The chart on the left effectively visualizes the survival status of passengers and the distribution of fare across different classes, while the chart on the right displays the number of passengers who survived or not, categorized by their classes.\n",
    "\n",
    "From the chart, it's evident that survivors in the first class paid higher fares, despite having a survival count similar to the second class.\n",
    "\n",
    "The third class shows the lowest fare collection among survivors and non-survivors alike, with fewer survivors overall."
   ]
  }
 ],
 "metadata": {
  "kernelspec": {
   "display_name": "Python 3 (ipykernel)",
   "language": "python",
   "name": "python3"
  },
  "language_info": {
   "codemirror_mode": {
    "name": "ipython",
    "version": 3
   },
   "file_extension": ".py",
   "mimetype": "text/x-python",
   "name": "python",
   "nbconvert_exporter": "python",
   "pygments_lexer": "ipython3",
   "version": "3.11.5"
  }
 },
 "nbformat": 4,
 "nbformat_minor": 5
}
